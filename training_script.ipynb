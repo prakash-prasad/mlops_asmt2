{
 "cells": [
  {
   "cell_type": "code",
   "execution_count": 1,
   "metadata": {
    "collapsed": true,
    "ExecuteTime": {
     "end_time": "2024-09-16T20:46:32.586518200Z",
     "start_time": "2024-09-16T20:46:30.699766100Z"
    }
   },
   "outputs": [],
   "source": [
    "import pandas as pd\n",
    "# import pyarrow\n",
    "import joblib\n",
    "\n",
    "from sklearn.ensemble import RandomForestClassifier\n",
    "from sklearn.linear_model import LogisticRegression\n",
    "from sklearn.model_selection import GridSearchCV, train_test_split\n",
    "from sklearn.metrics import classification_report\n",
    "from sklearn.svm import SVC"
   ]
  },
  {
   "cell_type": "raw",
   "source": [
    "2.Model Selection, Training, and Hyperparameter Tuning (6 Marks):\n",
    "•Task: Train multiple models, tune hyperparameters, and select the best-performing model.\n",
    "•Details: Utilize tools like AutoML, KizenML, or others for model selection and hyperparameter tuning. Document the experimentation process and justify your model choice.\n",
    "•Marks: 6 Marks\n"
   ],
   "metadata": {
    "collapsed": false
   }
  },
  {
   "cell_type": "code",
   "execution_count": 2,
   "outputs": [],
   "source": [
    "X_train = pd.read_parquet('tmp/X_train.parquet')\n",
    "X_test = pd.read_parquet('tmp/X_test.parquet')\n",
    "y_train = pd.read_parquet('tmp/y_train.parquet')\n",
    "y_test = pd.read_parquet('tmp/y_test.parquet')"
   ],
   "metadata": {
    "collapsed": false,
    "ExecuteTime": {
     "end_time": "2024-09-16T20:46:32.723117Z",
     "start_time": "2024-09-16T20:46:32.586518200Z"
    }
   }
  },
  {
   "cell_type": "code",
   "execution_count": 3,
   "outputs": [
    {
     "data": {
      "text/plain": "        Age    Income  Emp_length    Amount      Rate  Percent_income  \\\n0  5.712903 -0.323881   -0.673420 -0.757573  0.024165       -0.657458   \n1 -0.273252 -0.646554   -1.156213 -0.172315  1.678280        1.496501   \n2 -0.745843 -0.243213   -0.432024  1.014021  0.647544        1.309200   \n3 -0.903374 -0.162480    0.292165 -0.567760 -0.966452       -0.563808   \n4 -0.588313  0.208530   -0.432024 -0.409582  0.471640       -0.751109   \n\n   Cred_length  Home_MORTGAGE  Home_OTHER  Home_OWN  Home_RENT  \\\n0     4.487315            0.0         0.0       0.0        1.0   \n1    -0.691554            0.0         0.0       1.0        0.0   \n2    -0.691554            1.0         0.0       0.0        0.0   \n3    -0.444942            1.0         0.0       0.0        0.0   \n4    -0.691554            0.0         0.0       0.0        1.0   \n\n   Intent_DEBTCONSOLIDATION  Intent_EDUCATION  Intent_HOMEIMPROVEMENT  \\\n0                       0.0               0.0                     0.0   \n1                       1.0               0.0                     0.0   \n2                       0.0               0.0                     0.0   \n3                       0.0               0.0                     0.0   \n4                       0.0               0.0                     0.0   \n\n   Intent_MEDICAL  Intent_PERSONAL  Intent_VENTURE  Default_N  Default_Y  \n0             0.0              1.0             0.0        0.0        1.0  \n1             0.0              0.0             0.0        1.0        0.0  \n2             0.0              1.0             0.0        0.0        1.0  \n3             1.0              0.0             0.0        1.0        0.0  \n4             0.0              1.0             0.0        1.0        0.0  ",
      "text/html": "<div>\n<style scoped>\n    .dataframe tbody tr th:only-of-type {\n        vertical-align: middle;\n    }\n\n    .dataframe tbody tr th {\n        vertical-align: top;\n    }\n\n    .dataframe thead th {\n        text-align: right;\n    }\n</style>\n<table border=\"1\" class=\"dataframe\">\n  <thead>\n    <tr style=\"text-align: right;\">\n      <th></th>\n      <th>Age</th>\n      <th>Income</th>\n      <th>Emp_length</th>\n      <th>Amount</th>\n      <th>Rate</th>\n      <th>Percent_income</th>\n      <th>Cred_length</th>\n      <th>Home_MORTGAGE</th>\n      <th>Home_OTHER</th>\n      <th>Home_OWN</th>\n      <th>Home_RENT</th>\n      <th>Intent_DEBTCONSOLIDATION</th>\n      <th>Intent_EDUCATION</th>\n      <th>Intent_HOMEIMPROVEMENT</th>\n      <th>Intent_MEDICAL</th>\n      <th>Intent_PERSONAL</th>\n      <th>Intent_VENTURE</th>\n      <th>Default_N</th>\n      <th>Default_Y</th>\n    </tr>\n  </thead>\n  <tbody>\n    <tr>\n      <th>0</th>\n      <td>5.712903</td>\n      <td>-0.323881</td>\n      <td>-0.673420</td>\n      <td>-0.757573</td>\n      <td>0.024165</td>\n      <td>-0.657458</td>\n      <td>4.487315</td>\n      <td>0.0</td>\n      <td>0.0</td>\n      <td>0.0</td>\n      <td>1.0</td>\n      <td>0.0</td>\n      <td>0.0</td>\n      <td>0.0</td>\n      <td>0.0</td>\n      <td>1.0</td>\n      <td>0.0</td>\n      <td>0.0</td>\n      <td>1.0</td>\n    </tr>\n    <tr>\n      <th>1</th>\n      <td>-0.273252</td>\n      <td>-0.646554</td>\n      <td>-1.156213</td>\n      <td>-0.172315</td>\n      <td>1.678280</td>\n      <td>1.496501</td>\n      <td>-0.691554</td>\n      <td>0.0</td>\n      <td>0.0</td>\n      <td>1.0</td>\n      <td>0.0</td>\n      <td>1.0</td>\n      <td>0.0</td>\n      <td>0.0</td>\n      <td>0.0</td>\n      <td>0.0</td>\n      <td>0.0</td>\n      <td>1.0</td>\n      <td>0.0</td>\n    </tr>\n    <tr>\n      <th>2</th>\n      <td>-0.745843</td>\n      <td>-0.243213</td>\n      <td>-0.432024</td>\n      <td>1.014021</td>\n      <td>0.647544</td>\n      <td>1.309200</td>\n      <td>-0.691554</td>\n      <td>1.0</td>\n      <td>0.0</td>\n      <td>0.0</td>\n      <td>0.0</td>\n      <td>0.0</td>\n      <td>0.0</td>\n      <td>0.0</td>\n      <td>0.0</td>\n      <td>1.0</td>\n      <td>0.0</td>\n      <td>0.0</td>\n      <td>1.0</td>\n    </tr>\n    <tr>\n      <th>3</th>\n      <td>-0.903374</td>\n      <td>-0.162480</td>\n      <td>0.292165</td>\n      <td>-0.567760</td>\n      <td>-0.966452</td>\n      <td>-0.563808</td>\n      <td>-0.444942</td>\n      <td>1.0</td>\n      <td>0.0</td>\n      <td>0.0</td>\n      <td>0.0</td>\n      <td>0.0</td>\n      <td>0.0</td>\n      <td>0.0</td>\n      <td>1.0</td>\n      <td>0.0</td>\n      <td>0.0</td>\n      <td>1.0</td>\n      <td>0.0</td>\n    </tr>\n    <tr>\n      <th>4</th>\n      <td>-0.588313</td>\n      <td>0.208530</td>\n      <td>-0.432024</td>\n      <td>-0.409582</td>\n      <td>0.471640</td>\n      <td>-0.751109</td>\n      <td>-0.691554</td>\n      <td>0.0</td>\n      <td>0.0</td>\n      <td>0.0</td>\n      <td>1.0</td>\n      <td>0.0</td>\n      <td>0.0</td>\n      <td>0.0</td>\n      <td>0.0</td>\n      <td>1.0</td>\n      <td>0.0</td>\n      <td>1.0</td>\n      <td>0.0</td>\n    </tr>\n  </tbody>\n</table>\n</div>"
     },
     "execution_count": 3,
     "metadata": {},
     "output_type": "execute_result"
    }
   ],
   "source": [
    "X_train.head()"
   ],
   "metadata": {
    "collapsed": false,
    "ExecuteTime": {
     "end_time": "2024-09-16T20:46:32.762020200Z",
     "start_time": "2024-09-16T20:46:32.724497600Z"
    }
   }
  },
  {
   "cell_type": "code",
   "execution_count": 4,
   "outputs": [
    {
     "data": {
      "text/plain": "0        0.0\n1        1.0\n2        0.0\n3        0.0\n4        0.0\n        ... \n26059    0.0\n26060    1.0\n26061    1.0\n26062    0.0\n26063    0.0\nName: y_train, Length: 26064, dtype: float64"
     },
     "execution_count": 4,
     "metadata": {},
     "output_type": "execute_result"
    }
   ],
   "source": [
    "y_train = y_train['y_train']\n",
    "y_test = y_test['y_test']\n",
    "y_train"
   ],
   "metadata": {
    "collapsed": false,
    "ExecuteTime": {
     "end_time": "2024-09-16T20:46:32.774279800Z",
     "start_time": "2024-09-16T20:46:32.756063800Z"
    }
   }
  },
  {
   "cell_type": "code",
   "execution_count": 5,
   "outputs": [
    {
     "data": {
      "text/plain": "((26064, 19), (6517, 19), (26064,), (6517,))"
     },
     "execution_count": 5,
     "metadata": {},
     "output_type": "execute_result"
    }
   ],
   "source": [
    "X_train.shape, X_test.shape, y_train.shape, y_test.shape"
   ],
   "metadata": {
    "collapsed": false,
    "ExecuteTime": {
     "end_time": "2024-09-16T19:47:01.791952900Z",
     "start_time": "2024-09-16T19:47:01.782436700Z"
    }
   }
  },
  {
   "cell_type": "code",
   "execution_count": 22,
   "outputs": [],
   "source": [
    "# Initialize models\n",
    "models = {\n",
    "    'Logistic Regression': LogisticRegression(),\n",
    "    'Random Forest': RandomForestClassifier(),\n",
    "    'SVM': SVC()\n",
    "}"
   ],
   "metadata": {
    "collapsed": false,
    "ExecuteTime": {
     "end_time": "2024-09-16T18:45:10.746811Z",
     "start_time": "2024-09-16T18:45:10.733459100Z"
    }
   }
  },
  {
   "cell_type": "code",
   "execution_count": 23,
   "outputs": [
    {
     "name": "stdout",
     "output_type": "stream",
     "text": [
      "Performance for Logistic Regression:\n",
      "\n",
      "              precision    recall  f1-score   support\n",
      "\n",
      "         0.0       0.86      0.95      0.90      5072\n",
      "         1.0       0.72      0.45      0.55      1445\n",
      "\n",
      "    accuracy                           0.84      6517\n",
      "   macro avg       0.79      0.70      0.73      6517\n",
      "weighted avg       0.83      0.84      0.82      6517\n",
      "\n",
      "Performance for Random Forest:\n",
      "\n",
      "              precision    recall  f1-score   support\n",
      "\n",
      "         0.0       0.91      0.99      0.95      5072\n",
      "         1.0       0.94      0.68      0.79      1445\n",
      "\n",
      "    accuracy                           0.92      6517\n",
      "   macro avg       0.93      0.83      0.87      6517\n",
      "weighted avg       0.92      0.92      0.91      6517\n",
      "\n",
      "Performance for SVM:\n",
      "\n",
      "              precision    recall  f1-score   support\n",
      "\n",
      "         0.0       0.89      0.98      0.93      5072\n",
      "         1.0       0.89      0.57      0.69      1445\n",
      "\n",
      "    accuracy                           0.89      6517\n",
      "   macro avg       0.89      0.77      0.81      6517\n",
      "weighted avg       0.89      0.89      0.88      6517\n",
      "\n"
     ]
    }
   ],
   "source": [
    "# Train models and evaluate performance\n",
    "for model_name, model in models.items():\n",
    "    model.fit(X_train, y_train)\n",
    "    y_pred = model.predict(X_test)\n",
    "    print(f\"Performance for {model_name}:\\n\")\n",
    "    print(classification_report(y_test, y_pred))"
   ],
   "metadata": {
    "collapsed": false,
    "ExecuteTime": {
     "end_time": "2024-09-16T18:45:25.615592800Z",
     "start_time": "2024-09-16T18:45:11.097147100Z"
    }
   }
  },
  {
   "cell_type": "code",
   "execution_count": 38,
   "outputs": [
    {
     "name": "stdout",
     "output_type": "stream",
     "text": [
      "CPU times: total: 0 ns\n",
      "Wall time: 0 ns\n"
     ]
    },
    {
     "data": {
      "text/plain": "GridSearchCV(cv=5, estimator=RandomForestClassifier(),\n             param_grid={'max_depth': [3, 5], 'min_samples_split': [0.2, 0.3],\n                         'n_estimators': [100, 200]},\n             scoring='accuracy')",
      "text/html": "<style>#sk-container-id-1 {color: black;}#sk-container-id-1 pre{padding: 0;}#sk-container-id-1 div.sk-toggleable {background-color: white;}#sk-container-id-1 label.sk-toggleable__label {cursor: pointer;display: block;width: 100%;margin-bottom: 0;padding: 0.3em;box-sizing: border-box;text-align: center;}#sk-container-id-1 label.sk-toggleable__label-arrow:before {content: \"▸\";float: left;margin-right: 0.25em;color: #696969;}#sk-container-id-1 label.sk-toggleable__label-arrow:hover:before {color: black;}#sk-container-id-1 div.sk-estimator:hover label.sk-toggleable__label-arrow:before {color: black;}#sk-container-id-1 div.sk-toggleable__content {max-height: 0;max-width: 0;overflow: hidden;text-align: left;background-color: #f0f8ff;}#sk-container-id-1 div.sk-toggleable__content pre {margin: 0.2em;color: black;border-radius: 0.25em;background-color: #f0f8ff;}#sk-container-id-1 input.sk-toggleable__control:checked~div.sk-toggleable__content {max-height: 200px;max-width: 100%;overflow: auto;}#sk-container-id-1 input.sk-toggleable__control:checked~label.sk-toggleable__label-arrow:before {content: \"▾\";}#sk-container-id-1 div.sk-estimator input.sk-toggleable__control:checked~label.sk-toggleable__label {background-color: #d4ebff;}#sk-container-id-1 div.sk-label input.sk-toggleable__control:checked~label.sk-toggleable__label {background-color: #d4ebff;}#sk-container-id-1 input.sk-hidden--visually {border: 0;clip: rect(1px 1px 1px 1px);clip: rect(1px, 1px, 1px, 1px);height: 1px;margin: -1px;overflow: hidden;padding: 0;position: absolute;width: 1px;}#sk-container-id-1 div.sk-estimator {font-family: monospace;background-color: #f0f8ff;border: 1px dotted black;border-radius: 0.25em;box-sizing: border-box;margin-bottom: 0.5em;}#sk-container-id-1 div.sk-estimator:hover {background-color: #d4ebff;}#sk-container-id-1 div.sk-parallel-item::after {content: \"\";width: 100%;border-bottom: 1px solid gray;flex-grow: 1;}#sk-container-id-1 div.sk-label:hover label.sk-toggleable__label {background-color: #d4ebff;}#sk-container-id-1 div.sk-serial::before {content: \"\";position: absolute;border-left: 1px solid gray;box-sizing: border-box;top: 0;bottom: 0;left: 50%;z-index: 0;}#sk-container-id-1 div.sk-serial {display: flex;flex-direction: column;align-items: center;background-color: white;padding-right: 0.2em;padding-left: 0.2em;position: relative;}#sk-container-id-1 div.sk-item {position: relative;z-index: 1;}#sk-container-id-1 div.sk-parallel {display: flex;align-items: stretch;justify-content: center;background-color: white;position: relative;}#sk-container-id-1 div.sk-item::before, #sk-container-id-1 div.sk-parallel-item::before {content: \"\";position: absolute;border-left: 1px solid gray;box-sizing: border-box;top: 0;bottom: 0;left: 50%;z-index: -1;}#sk-container-id-1 div.sk-parallel-item {display: flex;flex-direction: column;z-index: 1;position: relative;background-color: white;}#sk-container-id-1 div.sk-parallel-item:first-child::after {align-self: flex-end;width: 50%;}#sk-container-id-1 div.sk-parallel-item:last-child::after {align-self: flex-start;width: 50%;}#sk-container-id-1 div.sk-parallel-item:only-child::after {width: 0;}#sk-container-id-1 div.sk-dashed-wrapped {border: 1px dashed gray;margin: 0 0.4em 0.5em 0.4em;box-sizing: border-box;padding-bottom: 0.4em;background-color: white;}#sk-container-id-1 div.sk-label label {font-family: monospace;font-weight: bold;display: inline-block;line-height: 1.2em;}#sk-container-id-1 div.sk-label-container {text-align: center;}#sk-container-id-1 div.sk-container {/* jupyter's `normalize.less` sets `[hidden] { display: none; }` but bootstrap.min.css set `[hidden] { display: none !important; }` so we also need the `!important` here to be able to override the default hidden behavior on the sphinx rendered scikit-learn.org. See: https://github.com/scikit-learn/scikit-learn/issues/21755 */display: inline-block !important;position: relative;}#sk-container-id-1 div.sk-text-repr-fallback {display: none;}</style><div id=\"sk-container-id-1\" class=\"sk-top-container\"><div class=\"sk-text-repr-fallback\"><pre>GridSearchCV(cv=5, estimator=RandomForestClassifier(),\n             param_grid={&#x27;max_depth&#x27;: [3, 5], &#x27;min_samples_split&#x27;: [0.2, 0.3],\n                         &#x27;n_estimators&#x27;: [100, 200]},\n             scoring=&#x27;accuracy&#x27;)</pre><b>In a Jupyter environment, please rerun this cell to show the HTML representation or trust the notebook. <br />On GitHub, the HTML representation is unable to render, please try loading this page with nbviewer.org.</b></div><div class=\"sk-container\" hidden><div class=\"sk-item sk-dashed-wrapped\"><div class=\"sk-label-container\"><div class=\"sk-label sk-toggleable\"><input class=\"sk-toggleable__control sk-hidden--visually\" id=\"sk-estimator-id-1\" type=\"checkbox\" ><label for=\"sk-estimator-id-1\" class=\"sk-toggleable__label sk-toggleable__label-arrow\">GridSearchCV</label><div class=\"sk-toggleable__content\"><pre>GridSearchCV(cv=5, estimator=RandomForestClassifier(),\n             param_grid={&#x27;max_depth&#x27;: [3, 5], &#x27;min_samples_split&#x27;: [0.2, 0.3],\n                         &#x27;n_estimators&#x27;: [100, 200]},\n             scoring=&#x27;accuracy&#x27;)</pre></div></div></div><div class=\"sk-parallel\"><div class=\"sk-parallel-item\"><div class=\"sk-item\"><div class=\"sk-label-container\"><div class=\"sk-label sk-toggleable\"><input class=\"sk-toggleable__control sk-hidden--visually\" id=\"sk-estimator-id-2\" type=\"checkbox\" ><label for=\"sk-estimator-id-2\" class=\"sk-toggleable__label sk-toggleable__label-arrow\">estimator: RandomForestClassifier</label><div class=\"sk-toggleable__content\"><pre>RandomForestClassifier()</pre></div></div></div><div class=\"sk-serial\"><div class=\"sk-item\"><div class=\"sk-estimator sk-toggleable\"><input class=\"sk-toggleable__control sk-hidden--visually\" id=\"sk-estimator-id-3\" type=\"checkbox\" ><label for=\"sk-estimator-id-3\" class=\"sk-toggleable__label sk-toggleable__label-arrow\">RandomForestClassifier</label><div class=\"sk-toggleable__content\"><pre>RandomForestClassifier()</pre></div></div></div></div></div></div></div></div></div></div>"
     },
     "execution_count": 38,
     "metadata": {},
     "output_type": "execute_result"
    }
   ],
   "source": [
    "%time\n",
    "# Hyperparameter Tuning with GridSearchCV for Random Forest\n",
    "param_grid = {\n",
    "    'n_estimators': [100, 200],\n",
    "    'max_depth': [3, 5],\n",
    "    'min_samples_split': [0.2, 0.3]\n",
    "}\n",
    "\n",
    "grid_search = GridSearchCV(RandomForestClassifier(), param_grid, cv=5, scoring='accuracy')\n",
    "grid_search.fit(X_train, y_train.ravel())"
   ],
   "metadata": {
    "collapsed": false,
    "ExecuteTime": {
     "end_time": "2024-09-16T19:14:24.820596200Z",
     "start_time": "2024-09-16T19:13:51.139212700Z"
    }
   }
  },
  {
   "cell_type": "code",
   "execution_count": 39,
   "outputs": [
    {
     "name": "stdout",
     "output_type": "stream",
     "text": [
      "Best Hyperparameters: {'max_depth': 5, 'min_samples_split': 0.2, 'n_estimators': 200}\n",
      "Test accuracy for RF: 0.8487033911308884\n",
      "Best Model Performance:\n",
      "              precision    recall  f1-score   support\n",
      "\n",
      "         0.0       0.84      1.00      0.91      5072\n",
      "         1.0       0.99      0.32      0.49      1445\n",
      "\n",
      "    accuracy                           0.85      6517\n",
      "   macro avg       0.91      0.66      0.70      6517\n",
      "weighted avg       0.87      0.85      0.82      6517\n",
      "\n"
     ]
    }
   ],
   "source": [
    "# Best model and parameters\n",
    "best_rf_model = grid_search.best_estimator_\n",
    "print(f\"Best Hyperparameters: {grid_search.best_params_}\")\n",
    "\n",
    "print(\"Test accuracy for RF:\", best_rf_model.score(X_test, y_test.ravel()))\n",
    "\n",
    "# Evaluate the best model on the test set\n",
    "y_pred_rf_best = best_rf_model.predict(X_test)\n",
    "print(f\"Best Model Performance:\\n{classification_report(y_test.ravel(), y_pred_rf_best)}\")"
   ],
   "metadata": {
    "collapsed": false,
    "ExecuteTime": {
     "end_time": "2024-09-16T19:18:42.709449600Z",
     "start_time": "2024-09-16T19:18:42.555644100Z"
    }
   }
  },
  {
   "cell_type": "code",
   "execution_count": 60,
   "outputs": [
    {
     "name": "stdout",
     "output_type": "stream",
     "text": [
      "CPU times: total: 0 ns\n",
      "Wall time: 0 ns\n",
      "Fitting 5 folds for each of 6 candidates, totalling 30 fits\n"
     ]
    },
    {
     "data": {
      "text/plain": "GridSearchCV(cv=5, estimator=LogisticRegression(), n_jobs=1,\n             param_grid={'C': [0.01, 0.1, 1], 'solver': ['lbfgs', 'liblinear']},\n             scoring='accuracy', verbose=1)",
      "text/html": "<style>#sk-container-id-3 {color: black;}#sk-container-id-3 pre{padding: 0;}#sk-container-id-3 div.sk-toggleable {background-color: white;}#sk-container-id-3 label.sk-toggleable__label {cursor: pointer;display: block;width: 100%;margin-bottom: 0;padding: 0.3em;box-sizing: border-box;text-align: center;}#sk-container-id-3 label.sk-toggleable__label-arrow:before {content: \"▸\";float: left;margin-right: 0.25em;color: #696969;}#sk-container-id-3 label.sk-toggleable__label-arrow:hover:before {color: black;}#sk-container-id-3 div.sk-estimator:hover label.sk-toggleable__label-arrow:before {color: black;}#sk-container-id-3 div.sk-toggleable__content {max-height: 0;max-width: 0;overflow: hidden;text-align: left;background-color: #f0f8ff;}#sk-container-id-3 div.sk-toggleable__content pre {margin: 0.2em;color: black;border-radius: 0.25em;background-color: #f0f8ff;}#sk-container-id-3 input.sk-toggleable__control:checked~div.sk-toggleable__content {max-height: 200px;max-width: 100%;overflow: auto;}#sk-container-id-3 input.sk-toggleable__control:checked~label.sk-toggleable__label-arrow:before {content: \"▾\";}#sk-container-id-3 div.sk-estimator input.sk-toggleable__control:checked~label.sk-toggleable__label {background-color: #d4ebff;}#sk-container-id-3 div.sk-label input.sk-toggleable__control:checked~label.sk-toggleable__label {background-color: #d4ebff;}#sk-container-id-3 input.sk-hidden--visually {border: 0;clip: rect(1px 1px 1px 1px);clip: rect(1px, 1px, 1px, 1px);height: 1px;margin: -1px;overflow: hidden;padding: 0;position: absolute;width: 1px;}#sk-container-id-3 div.sk-estimator {font-family: monospace;background-color: #f0f8ff;border: 1px dotted black;border-radius: 0.25em;box-sizing: border-box;margin-bottom: 0.5em;}#sk-container-id-3 div.sk-estimator:hover {background-color: #d4ebff;}#sk-container-id-3 div.sk-parallel-item::after {content: \"\";width: 100%;border-bottom: 1px solid gray;flex-grow: 1;}#sk-container-id-3 div.sk-label:hover label.sk-toggleable__label {background-color: #d4ebff;}#sk-container-id-3 div.sk-serial::before {content: \"\";position: absolute;border-left: 1px solid gray;box-sizing: border-box;top: 0;bottom: 0;left: 50%;z-index: 0;}#sk-container-id-3 div.sk-serial {display: flex;flex-direction: column;align-items: center;background-color: white;padding-right: 0.2em;padding-left: 0.2em;position: relative;}#sk-container-id-3 div.sk-item {position: relative;z-index: 1;}#sk-container-id-3 div.sk-parallel {display: flex;align-items: stretch;justify-content: center;background-color: white;position: relative;}#sk-container-id-3 div.sk-item::before, #sk-container-id-3 div.sk-parallel-item::before {content: \"\";position: absolute;border-left: 1px solid gray;box-sizing: border-box;top: 0;bottom: 0;left: 50%;z-index: -1;}#sk-container-id-3 div.sk-parallel-item {display: flex;flex-direction: column;z-index: 1;position: relative;background-color: white;}#sk-container-id-3 div.sk-parallel-item:first-child::after {align-self: flex-end;width: 50%;}#sk-container-id-3 div.sk-parallel-item:last-child::after {align-self: flex-start;width: 50%;}#sk-container-id-3 div.sk-parallel-item:only-child::after {width: 0;}#sk-container-id-3 div.sk-dashed-wrapped {border: 1px dashed gray;margin: 0 0.4em 0.5em 0.4em;box-sizing: border-box;padding-bottom: 0.4em;background-color: white;}#sk-container-id-3 div.sk-label label {font-family: monospace;font-weight: bold;display: inline-block;line-height: 1.2em;}#sk-container-id-3 div.sk-label-container {text-align: center;}#sk-container-id-3 div.sk-container {/* jupyter's `normalize.less` sets `[hidden] { display: none; }` but bootstrap.min.css set `[hidden] { display: none !important; }` so we also need the `!important` here to be able to override the default hidden behavior on the sphinx rendered scikit-learn.org. See: https://github.com/scikit-learn/scikit-learn/issues/21755 */display: inline-block !important;position: relative;}#sk-container-id-3 div.sk-text-repr-fallback {display: none;}</style><div id=\"sk-container-id-3\" class=\"sk-top-container\"><div class=\"sk-text-repr-fallback\"><pre>GridSearchCV(cv=5, estimator=LogisticRegression(), n_jobs=1,\n             param_grid={&#x27;C&#x27;: [0.01, 0.1, 1], &#x27;solver&#x27;: [&#x27;lbfgs&#x27;, &#x27;liblinear&#x27;]},\n             scoring=&#x27;accuracy&#x27;, verbose=1)</pre><b>In a Jupyter environment, please rerun this cell to show the HTML representation or trust the notebook. <br />On GitHub, the HTML representation is unable to render, please try loading this page with nbviewer.org.</b></div><div class=\"sk-container\" hidden><div class=\"sk-item sk-dashed-wrapped\"><div class=\"sk-label-container\"><div class=\"sk-label sk-toggleable\"><input class=\"sk-toggleable__control sk-hidden--visually\" id=\"sk-estimator-id-7\" type=\"checkbox\" ><label for=\"sk-estimator-id-7\" class=\"sk-toggleable__label sk-toggleable__label-arrow\">GridSearchCV</label><div class=\"sk-toggleable__content\"><pre>GridSearchCV(cv=5, estimator=LogisticRegression(), n_jobs=1,\n             param_grid={&#x27;C&#x27;: [0.01, 0.1, 1], &#x27;solver&#x27;: [&#x27;lbfgs&#x27;, &#x27;liblinear&#x27;]},\n             scoring=&#x27;accuracy&#x27;, verbose=1)</pre></div></div></div><div class=\"sk-parallel\"><div class=\"sk-parallel-item\"><div class=\"sk-item\"><div class=\"sk-label-container\"><div class=\"sk-label sk-toggleable\"><input class=\"sk-toggleable__control sk-hidden--visually\" id=\"sk-estimator-id-8\" type=\"checkbox\" ><label for=\"sk-estimator-id-8\" class=\"sk-toggleable__label sk-toggleable__label-arrow\">estimator: LogisticRegression</label><div class=\"sk-toggleable__content\"><pre>LogisticRegression()</pre></div></div></div><div class=\"sk-serial\"><div class=\"sk-item\"><div class=\"sk-estimator sk-toggleable\"><input class=\"sk-toggleable__control sk-hidden--visually\" id=\"sk-estimator-id-9\" type=\"checkbox\" ><label for=\"sk-estimator-id-9\" class=\"sk-toggleable__label sk-toggleable__label-arrow\">LogisticRegression</label><div class=\"sk-toggleable__content\"><pre>LogisticRegression()</pre></div></div></div></div></div></div></div></div></div></div>"
     },
     "execution_count": 60,
     "metadata": {},
     "output_type": "execute_result"
    }
   ],
   "source": [
    "%time\n",
    "# Define the Logistic Regression model\n",
    "\n",
    "# Define the parameter grid\n",
    "param_grid_log_reg = {\n",
    "    'C': [0.01, 0.1, 1],\n",
    "    'solver': ['lbfgs', 'liblinear']  # Different solvers\n",
    "}\n",
    "\n",
    "# Initialize GridSearchCV\n",
    "grid_search_log_reg = GridSearchCV(\n",
    "    estimator=LogisticRegression(), param_grid=param_grid_log_reg, cv=5, scoring='accuracy', n_jobs=1, verbose=1)\n",
    "\n",
    "# Fit GridSearchCV\n",
    "grid_search_log_reg.fit(X_train, y_train)"
   ],
   "metadata": {
    "collapsed": false,
    "ExecuteTime": {
     "end_time": "2024-09-16T19:32:43.550483100Z",
     "start_time": "2024-09-16T19:32:42.012036400Z"
    }
   }
  },
  {
   "cell_type": "code",
   "execution_count": 61,
   "outputs": [
    {
     "name": "stdout",
     "output_type": "stream",
     "text": [
      "Best hyperparameters for Logistic Regression: {'C': 1, 'solver': 'liblinear'}\n",
      "Best accuracy for Logistic Regression: 0.8479894705058004\n",
      "Test accuracy for Logistic Regression: 0.8384225870799448\n",
      "Best Model Performance:\n",
      "              precision    recall  f1-score   support\n",
      "\n",
      "         0.0       0.86      0.95      0.90      5072\n",
      "         1.0       0.72      0.45      0.55      1445\n",
      "\n",
      "    accuracy                           0.84      6517\n",
      "   macro avg       0.79      0.70      0.73      6517\n",
      "weighted avg       0.83      0.84      0.82      6517\n",
      "\n"
     ]
    }
   ],
   "source": [
    "\n",
    "# Best hyperparameters and score\n",
    "print(\"Best hyperparameters for Logistic Regression:\", grid_search_log_reg.best_params_)\n",
    "print(\"Best accuracy for Logistic Regression:\", grid_search_log_reg.best_score_)\n",
    "\n",
    "# Evaluate the best model on the test set\n",
    "best_log_reg = grid_search_log_reg.best_estimator_\n",
    "print(\"Test accuracy for Logistic Regression:\", best_log_reg.score(X_test, y_test))\n",
    "\n",
    "y_pred_log_reg_best = best_log_reg.predict(X_test)\n",
    "print(f\"Best Model Performance:\\n{classification_report(y_test, y_pred_log_reg_best)}\")"
   ],
   "metadata": {
    "collapsed": false,
    "ExecuteTime": {
     "end_time": "2024-09-16T19:32:54.113746800Z",
     "start_time": "2024-09-16T19:32:54.053916100Z"
    }
   }
  },
  {
   "cell_type": "code",
   "execution_count": 64,
   "outputs": [
    {
     "name": "stdout",
     "output_type": "stream",
     "text": [
      "Fitting 5 folds for each of 8 candidates, totalling 40 fits\n",
      "[CV] END .................C=0.01, gamma=scale, kernel=linear; total time=   4.6s\n",
      "[CV] END .................C=0.01, gamma=scale, kernel=linear; total time=   4.6s\n",
      "[CV] END .................C=0.01, gamma=scale, kernel=linear; total time=   4.6s\n",
      "[CV] END .................C=0.01, gamma=scale, kernel=linear; total time=   4.5s\n",
      "[CV] END .................C=0.01, gamma=scale, kernel=linear; total time=   4.6s\n",
      "[CV] END ...................C=0.01, gamma=scale, kernel=poly; total time=   5.0s\n",
      "[CV] END ...................C=0.01, gamma=scale, kernel=poly; total time=   4.9s\n",
      "[CV] END ...................C=0.01, gamma=scale, kernel=poly; total time=   5.0s\n",
      "[CV] END ...................C=0.01, gamma=scale, kernel=poly; total time=   5.0s\n",
      "[CV] END ...................C=0.01, gamma=scale, kernel=poly; total time=   5.0s\n",
      "[CV] END ..................C=0.01, gamma=auto, kernel=linear; total time=   4.6s\n",
      "[CV] END ..................C=0.01, gamma=auto, kernel=linear; total time=   4.6s\n",
      "[CV] END ..................C=0.01, gamma=auto, kernel=linear; total time=   4.6s\n",
      "[CV] END ..................C=0.01, gamma=auto, kernel=linear; total time=   4.5s\n",
      "[CV] END ..................C=0.01, gamma=auto, kernel=linear; total time=   4.6s\n",
      "[CV] END ....................C=0.01, gamma=auto, kernel=poly; total time=   5.6s\n",
      "[CV] END ....................C=0.01, gamma=auto, kernel=poly; total time=   5.5s\n",
      "[CV] END ....................C=0.01, gamma=auto, kernel=poly; total time=   5.8s\n",
      "[CV] END ....................C=0.01, gamma=auto, kernel=poly; total time=   5.9s\n",
      "[CV] END ....................C=0.01, gamma=auto, kernel=poly; total time=   5.7s\n",
      "[CV] END ..................C=0.1, gamma=scale, kernel=linear; total time=   5.1s\n",
      "[CV] END ..................C=0.1, gamma=scale, kernel=linear; total time=   5.1s\n",
      "[CV] END ..................C=0.1, gamma=scale, kernel=linear; total time=   5.4s\n",
      "[CV] END ..................C=0.1, gamma=scale, kernel=linear; total time=   4.9s\n",
      "[CV] END ..................C=0.1, gamma=scale, kernel=linear; total time=   5.1s\n",
      "[CV] END ....................C=0.1, gamma=scale, kernel=poly; total time=   4.6s\n",
      "[CV] END ....................C=0.1, gamma=scale, kernel=poly; total time=   4.5s\n",
      "[CV] END ....................C=0.1, gamma=scale, kernel=poly; total time=   4.6s\n",
      "[CV] END ....................C=0.1, gamma=scale, kernel=poly; total time=   4.6s\n",
      "[CV] END ....................C=0.1, gamma=scale, kernel=poly; total time=   5.0s\n",
      "[CV] END ...................C=0.1, gamma=auto, kernel=linear; total time=   5.1s\n",
      "[CV] END ...................C=0.1, gamma=auto, kernel=linear; total time=   5.2s\n",
      "[CV] END ...................C=0.1, gamma=auto, kernel=linear; total time=   4.9s\n",
      "[CV] END ...................C=0.1, gamma=auto, kernel=linear; total time=   4.8s\n",
      "[CV] END ...................C=0.1, gamma=auto, kernel=linear; total time=   5.1s\n",
      "[CV] END .....................C=0.1, gamma=auto, kernel=poly; total time=   5.9s\n",
      "[CV] END .....................C=0.1, gamma=auto, kernel=poly; total time=   5.1s\n",
      "[CV] END .....................C=0.1, gamma=auto, kernel=poly; total time=   5.2s\n",
      "[CV] END .....................C=0.1, gamma=auto, kernel=poly; total time=   5.2s\n",
      "[CV] END .....................C=0.1, gamma=auto, kernel=poly; total time=   5.1s\n"
     ]
    },
    {
     "data": {
      "text/plain": "GridSearchCV(cv=5, estimator=SVC(), n_jobs=1,\n             param_grid={'C': [0.01, 0.1], 'gamma': ['scale', 'auto'],\n                         'kernel': ['linear', 'poly']},\n             scoring='accuracy', verbose=2)",
      "text/html": "<style>#sk-container-id-4 {color: black;}#sk-container-id-4 pre{padding: 0;}#sk-container-id-4 div.sk-toggleable {background-color: white;}#sk-container-id-4 label.sk-toggleable__label {cursor: pointer;display: block;width: 100%;margin-bottom: 0;padding: 0.3em;box-sizing: border-box;text-align: center;}#sk-container-id-4 label.sk-toggleable__label-arrow:before {content: \"▸\";float: left;margin-right: 0.25em;color: #696969;}#sk-container-id-4 label.sk-toggleable__label-arrow:hover:before {color: black;}#sk-container-id-4 div.sk-estimator:hover label.sk-toggleable__label-arrow:before {color: black;}#sk-container-id-4 div.sk-toggleable__content {max-height: 0;max-width: 0;overflow: hidden;text-align: left;background-color: #f0f8ff;}#sk-container-id-4 div.sk-toggleable__content pre {margin: 0.2em;color: black;border-radius: 0.25em;background-color: #f0f8ff;}#sk-container-id-4 input.sk-toggleable__control:checked~div.sk-toggleable__content {max-height: 200px;max-width: 100%;overflow: auto;}#sk-container-id-4 input.sk-toggleable__control:checked~label.sk-toggleable__label-arrow:before {content: \"▾\";}#sk-container-id-4 div.sk-estimator input.sk-toggleable__control:checked~label.sk-toggleable__label {background-color: #d4ebff;}#sk-container-id-4 div.sk-label input.sk-toggleable__control:checked~label.sk-toggleable__label {background-color: #d4ebff;}#sk-container-id-4 input.sk-hidden--visually {border: 0;clip: rect(1px 1px 1px 1px);clip: rect(1px, 1px, 1px, 1px);height: 1px;margin: -1px;overflow: hidden;padding: 0;position: absolute;width: 1px;}#sk-container-id-4 div.sk-estimator {font-family: monospace;background-color: #f0f8ff;border: 1px dotted black;border-radius: 0.25em;box-sizing: border-box;margin-bottom: 0.5em;}#sk-container-id-4 div.sk-estimator:hover {background-color: #d4ebff;}#sk-container-id-4 div.sk-parallel-item::after {content: \"\";width: 100%;border-bottom: 1px solid gray;flex-grow: 1;}#sk-container-id-4 div.sk-label:hover label.sk-toggleable__label {background-color: #d4ebff;}#sk-container-id-4 div.sk-serial::before {content: \"\";position: absolute;border-left: 1px solid gray;box-sizing: border-box;top: 0;bottom: 0;left: 50%;z-index: 0;}#sk-container-id-4 div.sk-serial {display: flex;flex-direction: column;align-items: center;background-color: white;padding-right: 0.2em;padding-left: 0.2em;position: relative;}#sk-container-id-4 div.sk-item {position: relative;z-index: 1;}#sk-container-id-4 div.sk-parallel {display: flex;align-items: stretch;justify-content: center;background-color: white;position: relative;}#sk-container-id-4 div.sk-item::before, #sk-container-id-4 div.sk-parallel-item::before {content: \"\";position: absolute;border-left: 1px solid gray;box-sizing: border-box;top: 0;bottom: 0;left: 50%;z-index: -1;}#sk-container-id-4 div.sk-parallel-item {display: flex;flex-direction: column;z-index: 1;position: relative;background-color: white;}#sk-container-id-4 div.sk-parallel-item:first-child::after {align-self: flex-end;width: 50%;}#sk-container-id-4 div.sk-parallel-item:last-child::after {align-self: flex-start;width: 50%;}#sk-container-id-4 div.sk-parallel-item:only-child::after {width: 0;}#sk-container-id-4 div.sk-dashed-wrapped {border: 1px dashed gray;margin: 0 0.4em 0.5em 0.4em;box-sizing: border-box;padding-bottom: 0.4em;background-color: white;}#sk-container-id-4 div.sk-label label {font-family: monospace;font-weight: bold;display: inline-block;line-height: 1.2em;}#sk-container-id-4 div.sk-label-container {text-align: center;}#sk-container-id-4 div.sk-container {/* jupyter's `normalize.less` sets `[hidden] { display: none; }` but bootstrap.min.css set `[hidden] { display: none !important; }` so we also need the `!important` here to be able to override the default hidden behavior on the sphinx rendered scikit-learn.org. See: https://github.com/scikit-learn/scikit-learn/issues/21755 */display: inline-block !important;position: relative;}#sk-container-id-4 div.sk-text-repr-fallback {display: none;}</style><div id=\"sk-container-id-4\" class=\"sk-top-container\"><div class=\"sk-text-repr-fallback\"><pre>GridSearchCV(cv=5, estimator=SVC(), n_jobs=1,\n             param_grid={&#x27;C&#x27;: [0.01, 0.1], &#x27;gamma&#x27;: [&#x27;scale&#x27;, &#x27;auto&#x27;],\n                         &#x27;kernel&#x27;: [&#x27;linear&#x27;, &#x27;poly&#x27;]},\n             scoring=&#x27;accuracy&#x27;, verbose=2)</pre><b>In a Jupyter environment, please rerun this cell to show the HTML representation or trust the notebook. <br />On GitHub, the HTML representation is unable to render, please try loading this page with nbviewer.org.</b></div><div class=\"sk-container\" hidden><div class=\"sk-item sk-dashed-wrapped\"><div class=\"sk-label-container\"><div class=\"sk-label sk-toggleable\"><input class=\"sk-toggleable__control sk-hidden--visually\" id=\"sk-estimator-id-10\" type=\"checkbox\" ><label for=\"sk-estimator-id-10\" class=\"sk-toggleable__label sk-toggleable__label-arrow\">GridSearchCV</label><div class=\"sk-toggleable__content\"><pre>GridSearchCV(cv=5, estimator=SVC(), n_jobs=1,\n             param_grid={&#x27;C&#x27;: [0.01, 0.1], &#x27;gamma&#x27;: [&#x27;scale&#x27;, &#x27;auto&#x27;],\n                         &#x27;kernel&#x27;: [&#x27;linear&#x27;, &#x27;poly&#x27;]},\n             scoring=&#x27;accuracy&#x27;, verbose=2)</pre></div></div></div><div class=\"sk-parallel\"><div class=\"sk-parallel-item\"><div class=\"sk-item\"><div class=\"sk-label-container\"><div class=\"sk-label sk-toggleable\"><input class=\"sk-toggleable__control sk-hidden--visually\" id=\"sk-estimator-id-11\" type=\"checkbox\" ><label for=\"sk-estimator-id-11\" class=\"sk-toggleable__label sk-toggleable__label-arrow\">estimator: SVC</label><div class=\"sk-toggleable__content\"><pre>SVC()</pre></div></div></div><div class=\"sk-serial\"><div class=\"sk-item\"><div class=\"sk-estimator sk-toggleable\"><input class=\"sk-toggleable__control sk-hidden--visually\" id=\"sk-estimator-id-12\" type=\"checkbox\" ><label for=\"sk-estimator-id-12\" class=\"sk-toggleable__label sk-toggleable__label-arrow\">SVC</label><div class=\"sk-toggleable__content\"><pre>SVC()</pre></div></div></div></div></div></div></div></div></div></div>"
     },
     "execution_count": 64,
     "metadata": {},
     "output_type": "execute_result"
    }
   ],
   "source": [
    "# Define the SVM model\n",
    "svm = SVC(probability=True)\n",
    "\n",
    "# Define the parameter grid\n",
    "param_grid_svm = {\n",
    "    'C': [0.01, 0.1],\n",
    "    'kernel': ['linear', 'poly'],\n",
    "    'gamma': ['scale', 'auto']  # For 'rbf', 'poly', and 'sigmoid' kernels\n",
    "}\n",
    "\n",
    "# Initialize GridSearchCV\n",
    "grid_search_svm = GridSearchCV(estimator=svm, param_grid=param_grid_svm, cv=5, scoring='accuracy', n_jobs=1, verbose=2)\n",
    "\n",
    "# Fit GridSearchCV\n",
    "grid_search_svm.fit(X_train, y_train)"
   ],
   "metadata": {
    "collapsed": false,
    "ExecuteTime": {
     "end_time": "2024-09-16T19:44:11.419981Z",
     "start_time": "2024-09-16T19:40:41.393436900Z"
    }
   }
  },
  {
   "cell_type": "code",
   "execution_count": 65,
   "outputs": [
    {
     "name": "stdout",
     "output_type": "stream",
     "text": [
      "Best hyperparameters for SVM: {'C': 0.1, 'gamma': 'scale', 'kernel': 'poly'}\n",
      "Best accuracy for SVM: 0.8773019558665766\n",
      "Test accuracy for SVM: 0.8750959030228633\n",
      "Best Model Performance:\n",
      "              precision    recall  f1-score   support\n",
      "\n",
      "         0.0       0.87      0.98      0.92      5072\n",
      "         1.0       0.90      0.49      0.64      1445\n",
      "\n",
      "    accuracy                           0.88      6517\n",
      "   macro avg       0.89      0.74      0.78      6517\n",
      "weighted avg       0.88      0.88      0.86      6517\n",
      "\n"
     ]
    }
   ],
   "source": [
    "# Best hyperparameters and score\n",
    "print(\"Best hyperparameters for SVM:\", grid_search_svm.best_params_)\n",
    "print(\"Best accuracy for SVM:\", grid_search_svm.best_score_)\n",
    "\n",
    "# Evaluate the best model on the test set\n",
    "best_svm = grid_search_svm.best_estimator_\n",
    "print(\"Test accuracy for SVM:\", best_svm.score(X_test, y_test))\n",
    "y_pred_svm_best = best_svm.predict(X_test)\n",
    "print(f\"Best Model Performance:\\n{classification_report(y_test, y_pred_svm_best)}\")"
   ],
   "metadata": {
    "collapsed": false,
    "ExecuteTime": {
     "end_time": "2024-09-16T19:44:27.457760100Z",
     "start_time": "2024-09-16T19:44:25.483116500Z"
    }
   }
  },
  {
   "cell_type": "code",
   "execution_count": 66,
   "outputs": [
    {
     "data": {
      "text/plain": "['best_svm_model.pkl']"
     },
     "execution_count": 66,
     "metadata": {},
     "output_type": "execute_result"
    }
   ],
   "source": [
    "# save models\n",
    "import joblib\n",
    "joblib.dump(best_rf_model, 'best_random_forest_model.pkl')\n",
    "joblib.dump(best_log_reg, 'best_logistic_regression_model.pkl')\n",
    "joblib.dump(best_svm, 'best_svm_model.pkl')"
   ],
   "metadata": {
    "collapsed": false,
    "ExecuteTime": {
     "end_time": "2024-09-16T19:44:35.199155700Z",
     "start_time": "2024-09-16T19:44:35.109061100Z"
    }
   }
  },
  {
   "cell_type": "code",
   "execution_count": null,
   "outputs": [
    {
     "data": {
      "text/plain": "Optimization Progress:   0%|          | 0/300 [00:00<?, ?pipeline/s]",
      "application/vnd.jupyter.widget-view+json": {
       "version_major": 2,
       "version_minor": 0,
       "model_id": "65663310632442f5807d0d8673fec1ff"
      }
     },
     "metadata": {},
     "output_type": "display_data"
    },
    {
     "name": "stdout",
     "output_type": "stream",
     "text": [
      "\n",
      "Generation 1 - Current best internal CV score: 0.926258362300165\n",
      "\n",
      "Generation 2 - Current best internal CV score: 0.926258362300165\n",
      "\n",
      "Generation 3 - Current best internal CV score: 0.926258362300165\n"
     ]
    }
   ],
   "source": [
    "from tpot import TPOTClassifier\n",
    "# using automl tpot to find best tree classifier with genetic algorithm\n",
    "tpot = TPOTClassifier(generations=5, population_size=50, verbosity=2, random_state=42)\n",
    "tpot.fit(X_train, y_train)\n",
    "accuracy = tpot.score(X_test, y_test)\n",
    "print(f\"Test Accuracy: {accuracy:.4f}\")\n",
    "tpot.export('best_tpot_pipeline.py')\n",
    "print('Model written successfully')"
   ],
   "metadata": {
    "collapsed": false,
    "is_executing": true,
    "ExecuteTime": {
     "start_time": "2024-09-16T19:47:11.324504600Z"
    }
   }
  },
  {
   "cell_type": "code",
   "execution_count": null,
   "outputs": [],
   "source": [],
   "metadata": {
    "collapsed": false
   }
  }
 ],
 "metadata": {
  "kernelspec": {
   "display_name": "Python 3",
   "language": "python",
   "name": "python3"
  },
  "language_info": {
   "codemirror_mode": {
    "name": "ipython",
    "version": 2
   },
   "file_extension": ".py",
   "mimetype": "text/x-python",
   "name": "python",
   "nbconvert_exporter": "python",
   "pygments_lexer": "ipython2",
   "version": "2.7.6"
  }
 },
 "nbformat": 4,
 "nbformat_minor": 0
}
