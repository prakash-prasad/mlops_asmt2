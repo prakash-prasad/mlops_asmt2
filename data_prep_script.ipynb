{
 "cells": [
  {
   "cell_type": "markdown",
   "source": [
    "# Explainable AI"
   ],
   "metadata": {
    "collapsed": false
   }
  },
  {
   "cell_type": "raw",
   "source": [
    "1.Data Collection and Preprocessing (4 Marks):\n",
    "•Task: Select an appropriate dataset and perform data preprocessing, including data cleaning, feature engineering, and scaling/normalization.\n",
    "•Details: Explain the choices made during preprocessing and how they impact the model. Use KizenML or other tools for AutoEDA if applicable.\n",
    "•Marks: 4 Marks\n"
   ],
   "metadata": {
    "collapsed": false
   }
  },
  {
   "cell_type": "code",
   "execution_count": 3,
   "outputs": [],
   "source": [
    "import os\n",
    "import kaggle\n",
    "import pandas as pd\n",
    "import io\n",
    "import zipfile\n",
    "import pandas as pd\n",
    "import scipy\n",
    "\n",
    "from sklearn.model_selection import train_test_split\n",
    "from sklearn.preprocessing import StandardScaler, OneHotEncoder\n",
    "from sklearn.impute import SimpleImputer\n",
    "from sklearn.compose import ColumnTransformer\n",
    "from sklearn.pipeline import Pipeline"
   ],
   "metadata": {
    "collapsed": false,
    "ExecuteTime": {
     "end_time": "2024-09-16T17:30:06.396178600Z",
     "start_time": "2024-09-16T17:30:00.356212300Z"
    }
   }
  },
  {
   "cell_type": "code",
   "execution_count": 19,
   "outputs": [
    {
     "name": "stdout",
     "output_type": "stream",
     "text": [
      "Dataset URL: https://www.kaggle.com/datasets/nanditapore/credit-risk-analysis\n"
     ]
    }
   ],
   "source": [
    "# Import credit risk analysis data from kaggle https://www.kaggle.com/datasets/nanditapore/credit-risk-analysis\n",
    "kaggle.api.authenticate()\n",
    "dataset_name = \"nanditapore/credit-risk-analysis\"\n",
    "tmp_data_save_path = r\"C:\\Users\\praka\\Acads\\M_Tech\\new_git_test\\mlops_asmt\\test-repo-asmt2\\tmp\"\n",
    "kaggle.api.dataset_download_files(dataset_name,\n",
    "    path=tmp_data_save_path, unzip=True)\n",
    "df = pd.read_csv('tmp/credit_risk.csv')"
   ],
   "metadata": {
    "collapsed": false,
    "ExecuteTime": {
     "end_time": "2024-09-16T17:49:30.541769200Z",
     "start_time": "2024-09-16T17:49:27.313277600Z"
    }
   }
  },
  {
   "cell_type": "code",
   "execution_count": 20,
   "outputs": [
    {
     "data": {
      "text/plain": "   Id  Age  Income      Home  Emp_length     Intent  Amount   Rate  Status  \\\n0   0   22   59000      RENT       123.0   PERSONAL   35000  16.02       1   \n1   1   21    9600       OWN         5.0  EDUCATION    1000  11.14       0   \n2   2   25    9600  MORTGAGE         1.0    MEDICAL    5500  12.87       1   \n3   3   23   65500      RENT         4.0    MEDICAL   35000  15.23       1   \n4   4   24   54400      RENT         8.0    MEDICAL   35000  14.27       1   \n\n   Percent_income Default  Cred_length  \n0            0.59       Y            3  \n1            0.10       N            2  \n2            0.57       N            3  \n3            0.53       N            2  \n4            0.55       Y            4  ",
      "text/html": "<div>\n<style scoped>\n    .dataframe tbody tr th:only-of-type {\n        vertical-align: middle;\n    }\n\n    .dataframe tbody tr th {\n        vertical-align: top;\n    }\n\n    .dataframe thead th {\n        text-align: right;\n    }\n</style>\n<table border=\"1\" class=\"dataframe\">\n  <thead>\n    <tr style=\"text-align: right;\">\n      <th></th>\n      <th>Id</th>\n      <th>Age</th>\n      <th>Income</th>\n      <th>Home</th>\n      <th>Emp_length</th>\n      <th>Intent</th>\n      <th>Amount</th>\n      <th>Rate</th>\n      <th>Status</th>\n      <th>Percent_income</th>\n      <th>Default</th>\n      <th>Cred_length</th>\n    </tr>\n  </thead>\n  <tbody>\n    <tr>\n      <th>0</th>\n      <td>0</td>\n      <td>22</td>\n      <td>59000</td>\n      <td>RENT</td>\n      <td>123.0</td>\n      <td>PERSONAL</td>\n      <td>35000</td>\n      <td>16.02</td>\n      <td>1</td>\n      <td>0.59</td>\n      <td>Y</td>\n      <td>3</td>\n    </tr>\n    <tr>\n      <th>1</th>\n      <td>1</td>\n      <td>21</td>\n      <td>9600</td>\n      <td>OWN</td>\n      <td>5.0</td>\n      <td>EDUCATION</td>\n      <td>1000</td>\n      <td>11.14</td>\n      <td>0</td>\n      <td>0.10</td>\n      <td>N</td>\n      <td>2</td>\n    </tr>\n    <tr>\n      <th>2</th>\n      <td>2</td>\n      <td>25</td>\n      <td>9600</td>\n      <td>MORTGAGE</td>\n      <td>1.0</td>\n      <td>MEDICAL</td>\n      <td>5500</td>\n      <td>12.87</td>\n      <td>1</td>\n      <td>0.57</td>\n      <td>N</td>\n      <td>3</td>\n    </tr>\n    <tr>\n      <th>3</th>\n      <td>3</td>\n      <td>23</td>\n      <td>65500</td>\n      <td>RENT</td>\n      <td>4.0</td>\n      <td>MEDICAL</td>\n      <td>35000</td>\n      <td>15.23</td>\n      <td>1</td>\n      <td>0.53</td>\n      <td>N</td>\n      <td>2</td>\n    </tr>\n    <tr>\n      <th>4</th>\n      <td>4</td>\n      <td>24</td>\n      <td>54400</td>\n      <td>RENT</td>\n      <td>8.0</td>\n      <td>MEDICAL</td>\n      <td>35000</td>\n      <td>14.27</td>\n      <td>1</td>\n      <td>0.55</td>\n      <td>Y</td>\n      <td>4</td>\n    </tr>\n  </tbody>\n</table>\n</div>"
     },
     "execution_count": 20,
     "metadata": {},
     "output_type": "execute_result"
    }
   ],
   "source": [
    "df.head()  # 1.a) data collection complete"
   ],
   "metadata": {
    "collapsed": false,
    "ExecuteTime": {
     "end_time": "2024-09-16T17:49:30.557540Z",
     "start_time": "2024-09-16T17:49:30.544207300Z"
    }
   }
  },
  {
   "cell_type": "code",
   "execution_count": 16,
   "outputs": [
    {
     "data": {
      "text/plain": "                                             |          | [  0%]   00:00 -> (? left)",
      "application/vnd.jupyter.widget-view+json": {
       "version_major": 2,
       "version_minor": 0,
       "model_id": "2d7c3bac678d42879efbd5e59ea71c1a"
      }
     },
     "metadata": {},
     "output_type": "display_data"
    },
    {
     "name": "stdout",
     "output_type": "stream",
     "text": [
      "Report sweetviz_report.html was generated! NOTEBOOK/COLAB USERS: the web browser MAY not pop up, regardless, the report IS saved in your notebook/colab files.\n"
     ]
    }
   ],
   "source": [
    "# data eda with sweetviz - autoeda tool\n",
    "import sweetviz as sv\n",
    "report = sv.analyze(df)\n",
    "report.show_html('sweetviz_report.html')"
   ],
   "metadata": {
    "collapsed": false,
    "ExecuteTime": {
     "end_time": "2024-09-16T17:48:50.722991900Z",
     "start_time": "2024-09-16T17:48:45.077330400Z"
    }
   }
  },
  {
   "cell_type": "raw",
   "source": [
    " # Removing the unique identifier since id column is different for every customer\n",
    " # One hot encoding cat cols since it all tree based models need cat cols in this format\n",
    " # standard scaling numeric features for models like logistic regression"
   ],
   "metadata": {
    "collapsed": false
   }
  },
  {
   "cell_type": "code",
   "execution_count": 21,
   "outputs": [
    {
     "name": "stdout",
     "output_type": "stream",
     "text": [
      "numeric features in df ['Age', 'Income', 'Emp_length', 'Amount', 'Rate', 'Percent_income', 'Cred_length']\n",
      "string features in df ['Home', 'Intent', 'Default']\n"
     ]
    }
   ],
   "source": [
    "# Preprocess the data\n",
    "df = df.drop(columns=['Id'])  # Removing the unique identifier\n",
    "\n",
    "# Numeric feature standard scaling\n",
    "numerical_features = list(df.select_dtypes(include=['float64', 'int64']).columns)\n",
    "numerical_features.remove('Status')\n",
    "print('numeric features in df {}'.format(numerical_features))\n",
    "scaler = StandardScaler()\n",
    "df[numerical_features] = scaler.fit_transform(df[numerical_features])\n",
    "\n",
    "# One-hot encoding categorical variables\n",
    "df = pd.get_dummies(df, columns=['Home', 'Intent', 'Default'])\n",
    "print('string features in df {}'.format(['Home', 'Intent', 'Default']))\n",
    "\n",
    "# Handling missing values with SimpleImputer\n",
    "imputer = SimpleImputer(strategy='mean')  # Using mean for imputation\n",
    "data_imputed = pd.DataFrame(imputer.fit_transform(df), columns=df.columns)\n",
    "\n",
    "# Splitting data into features (X) and target (y)\n",
    "X = data_imputed.drop(columns=['Status'])\n",
    "y = data_imputed['Status']\n",
    "# Splitting the dataset into training and testing sets\n",
    "X_train, X_test, y_train, y_test = train_test_split(X, y, test_size=0.2, random_state=42)"
   ],
   "metadata": {
    "collapsed": false,
    "ExecuteTime": {
     "end_time": "2024-09-16T17:49:37.287464900Z",
     "start_time": "2024-09-16T17:49:37.195814800Z"
    }
   }
  },
  {
   "cell_type": "code",
   "execution_count": 22,
   "outputs": [
    {
     "data": {
      "text/plain": "            Age    Income  Emp_length    Amount      Rate  Percent_income  \\\n32377  5.712903 -0.323881   -0.673420 -0.757573  0.024165       -0.657458   \n1338  -0.273252 -0.646554   -1.156213 -0.172315  1.678280        1.496501   \n7047  -0.745843 -0.243213   -0.432024  1.014021  0.647544        1.309200   \n8225  -0.903374 -0.162480    0.292165 -0.567760 -0.966452       -0.563808   \n7178  -0.588313  0.208530   -0.432024 -0.409582  0.471640       -0.751109   \n\n       Cred_length  Home_MORTGAGE  Home_OTHER  Home_OWN  Home_RENT  \\\n32377     4.487315            0.0         0.0       0.0        1.0   \n1338     -0.691554            0.0         0.0       1.0        0.0   \n7047     -0.691554            1.0         0.0       0.0        0.0   \n8225     -0.444942            1.0         0.0       0.0        0.0   \n7178     -0.691554            0.0         0.0       0.0        1.0   \n\n       Intent_DEBTCONSOLIDATION  Intent_EDUCATION  Intent_HOMEIMPROVEMENT  \\\n32377                       0.0               0.0                     0.0   \n1338                        1.0               0.0                     0.0   \n7047                        0.0               0.0                     0.0   \n8225                        0.0               0.0                     0.0   \n7178                        0.0               0.0                     0.0   \n\n       Intent_MEDICAL  Intent_PERSONAL  Intent_VENTURE  Default_N  Default_Y  \n32377             0.0              1.0             0.0        0.0        1.0  \n1338              0.0              0.0             0.0        1.0        0.0  \n7047              0.0              1.0             0.0        0.0        1.0  \n8225              1.0              0.0             0.0        1.0        0.0  \n7178              0.0              1.0             0.0        1.0        0.0  ",
      "text/html": "<div>\n<style scoped>\n    .dataframe tbody tr th:only-of-type {\n        vertical-align: middle;\n    }\n\n    .dataframe tbody tr th {\n        vertical-align: top;\n    }\n\n    .dataframe thead th {\n        text-align: right;\n    }\n</style>\n<table border=\"1\" class=\"dataframe\">\n  <thead>\n    <tr style=\"text-align: right;\">\n      <th></th>\n      <th>Age</th>\n      <th>Income</th>\n      <th>Emp_length</th>\n      <th>Amount</th>\n      <th>Rate</th>\n      <th>Percent_income</th>\n      <th>Cred_length</th>\n      <th>Home_MORTGAGE</th>\n      <th>Home_OTHER</th>\n      <th>Home_OWN</th>\n      <th>Home_RENT</th>\n      <th>Intent_DEBTCONSOLIDATION</th>\n      <th>Intent_EDUCATION</th>\n      <th>Intent_HOMEIMPROVEMENT</th>\n      <th>Intent_MEDICAL</th>\n      <th>Intent_PERSONAL</th>\n      <th>Intent_VENTURE</th>\n      <th>Default_N</th>\n      <th>Default_Y</th>\n    </tr>\n  </thead>\n  <tbody>\n    <tr>\n      <th>32377</th>\n      <td>5.712903</td>\n      <td>-0.323881</td>\n      <td>-0.673420</td>\n      <td>-0.757573</td>\n      <td>0.024165</td>\n      <td>-0.657458</td>\n      <td>4.487315</td>\n      <td>0.0</td>\n      <td>0.0</td>\n      <td>0.0</td>\n      <td>1.0</td>\n      <td>0.0</td>\n      <td>0.0</td>\n      <td>0.0</td>\n      <td>0.0</td>\n      <td>1.0</td>\n      <td>0.0</td>\n      <td>0.0</td>\n      <td>1.0</td>\n    </tr>\n    <tr>\n      <th>1338</th>\n      <td>-0.273252</td>\n      <td>-0.646554</td>\n      <td>-1.156213</td>\n      <td>-0.172315</td>\n      <td>1.678280</td>\n      <td>1.496501</td>\n      <td>-0.691554</td>\n      <td>0.0</td>\n      <td>0.0</td>\n      <td>1.0</td>\n      <td>0.0</td>\n      <td>1.0</td>\n      <td>0.0</td>\n      <td>0.0</td>\n      <td>0.0</td>\n      <td>0.0</td>\n      <td>0.0</td>\n      <td>1.0</td>\n      <td>0.0</td>\n    </tr>\n    <tr>\n      <th>7047</th>\n      <td>-0.745843</td>\n      <td>-0.243213</td>\n      <td>-0.432024</td>\n      <td>1.014021</td>\n      <td>0.647544</td>\n      <td>1.309200</td>\n      <td>-0.691554</td>\n      <td>1.0</td>\n      <td>0.0</td>\n      <td>0.0</td>\n      <td>0.0</td>\n      <td>0.0</td>\n      <td>0.0</td>\n      <td>0.0</td>\n      <td>0.0</td>\n      <td>1.0</td>\n      <td>0.0</td>\n      <td>0.0</td>\n      <td>1.0</td>\n    </tr>\n    <tr>\n      <th>8225</th>\n      <td>-0.903374</td>\n      <td>-0.162480</td>\n      <td>0.292165</td>\n      <td>-0.567760</td>\n      <td>-0.966452</td>\n      <td>-0.563808</td>\n      <td>-0.444942</td>\n      <td>1.0</td>\n      <td>0.0</td>\n      <td>0.0</td>\n      <td>0.0</td>\n      <td>0.0</td>\n      <td>0.0</td>\n      <td>0.0</td>\n      <td>1.0</td>\n      <td>0.0</td>\n      <td>0.0</td>\n      <td>1.0</td>\n      <td>0.0</td>\n    </tr>\n    <tr>\n      <th>7178</th>\n      <td>-0.588313</td>\n      <td>0.208530</td>\n      <td>-0.432024</td>\n      <td>-0.409582</td>\n      <td>0.471640</td>\n      <td>-0.751109</td>\n      <td>-0.691554</td>\n      <td>0.0</td>\n      <td>0.0</td>\n      <td>0.0</td>\n      <td>1.0</td>\n      <td>0.0</td>\n      <td>0.0</td>\n      <td>0.0</td>\n      <td>0.0</td>\n      <td>1.0</td>\n      <td>0.0</td>\n      <td>1.0</td>\n      <td>0.0</td>\n    </tr>\n  </tbody>\n</table>\n</div>"
     },
     "execution_count": 22,
     "metadata": {},
     "output_type": "execute_result"
    }
   ],
   "source": [
    "X_train.head()"
   ],
   "metadata": {
    "collapsed": false,
    "ExecuteTime": {
     "end_time": "2024-09-16T17:49:43.477210Z",
     "start_time": "2024-09-16T17:49:43.454503300Z"
    }
   }
  },
  {
   "cell_type": "code",
   "execution_count": 23,
   "outputs": [
    {
     "data": {
      "text/plain": "32377    0.0\n1338     1.0\n7047     0.0\n8225     0.0\n7178     0.0\nName: Status, dtype: float64"
     },
     "execution_count": 23,
     "metadata": {},
     "output_type": "execute_result"
    }
   ],
   "source": [
    "y_train.head()"
   ],
   "metadata": {
    "collapsed": false,
    "ExecuteTime": {
     "end_time": "2024-09-16T17:49:50.859141700Z",
     "start_time": "2024-09-16T17:49:50.851397700Z"
    }
   }
  },
  {
   "cell_type": "code",
   "execution_count": 24,
   "outputs": [
    {
     "data": {
      "text/plain": "            Age    Income  Emp_length    Amount          Rate  Percent_income  \\\n14668 -0.588313 -0.614287    0.292165  0.064952 -1.980293e-01        1.777452   \n24614 -0.115722 -0.033475   -1.156213  0.064952  1.314128e+00       -0.095556   \n11096 -0.273252  0.095594    1.257751  1.014021  3.067403e-16        0.466346   \n10424 -0.745843 -0.614352    0.533562  0.064952  3.067403e-16        1.777452   \n26007  0.356869 -0.348082   -0.673420  0.539487  1.638161e+00        1.121899   \n\n       Cred_length  Home_MORTGAGE  Home_OTHER  Home_OWN  Home_RENT  \\\n14668    -0.938167            0.0         0.0       1.0        0.0   \n24614     1.034735            0.0         0.0       0.0        1.0   \n11096    -0.691554            1.0         0.0       0.0        0.0   \n10424    -0.938167            0.0         0.0       0.0        1.0   \n26007     0.048284            0.0         0.0       0.0        1.0   \n\n       Intent_DEBTCONSOLIDATION  Intent_EDUCATION  Intent_HOMEIMPROVEMENT  \\\n14668                       0.0               0.0                     1.0   \n24614                       0.0               0.0                     0.0   \n11096                       0.0               1.0                     0.0   \n10424                       1.0               0.0                     0.0   \n26007                       0.0               0.0                     0.0   \n\n       Intent_MEDICAL  Intent_PERSONAL  Intent_VENTURE  Default_N  Default_Y  \n14668             0.0              0.0             0.0        1.0        0.0  \n24614             0.0              1.0             0.0        0.0        1.0  \n11096             0.0              0.0             0.0        1.0        0.0  \n10424             0.0              0.0             0.0        1.0        0.0  \n26007             1.0              0.0             0.0        1.0        0.0  ",
      "text/html": "<div>\n<style scoped>\n    .dataframe tbody tr th:only-of-type {\n        vertical-align: middle;\n    }\n\n    .dataframe tbody tr th {\n        vertical-align: top;\n    }\n\n    .dataframe thead th {\n        text-align: right;\n    }\n</style>\n<table border=\"1\" class=\"dataframe\">\n  <thead>\n    <tr style=\"text-align: right;\">\n      <th></th>\n      <th>Age</th>\n      <th>Income</th>\n      <th>Emp_length</th>\n      <th>Amount</th>\n      <th>Rate</th>\n      <th>Percent_income</th>\n      <th>Cred_length</th>\n      <th>Home_MORTGAGE</th>\n      <th>Home_OTHER</th>\n      <th>Home_OWN</th>\n      <th>Home_RENT</th>\n      <th>Intent_DEBTCONSOLIDATION</th>\n      <th>Intent_EDUCATION</th>\n      <th>Intent_HOMEIMPROVEMENT</th>\n      <th>Intent_MEDICAL</th>\n      <th>Intent_PERSONAL</th>\n      <th>Intent_VENTURE</th>\n      <th>Default_N</th>\n      <th>Default_Y</th>\n    </tr>\n  </thead>\n  <tbody>\n    <tr>\n      <th>14668</th>\n      <td>-0.588313</td>\n      <td>-0.614287</td>\n      <td>0.292165</td>\n      <td>0.064952</td>\n      <td>-1.980293e-01</td>\n      <td>1.777452</td>\n      <td>-0.938167</td>\n      <td>0.0</td>\n      <td>0.0</td>\n      <td>1.0</td>\n      <td>0.0</td>\n      <td>0.0</td>\n      <td>0.0</td>\n      <td>1.0</td>\n      <td>0.0</td>\n      <td>0.0</td>\n      <td>0.0</td>\n      <td>1.0</td>\n      <td>0.0</td>\n    </tr>\n    <tr>\n      <th>24614</th>\n      <td>-0.115722</td>\n      <td>-0.033475</td>\n      <td>-1.156213</td>\n      <td>0.064952</td>\n      <td>1.314128e+00</td>\n      <td>-0.095556</td>\n      <td>1.034735</td>\n      <td>0.0</td>\n      <td>0.0</td>\n      <td>0.0</td>\n      <td>1.0</td>\n      <td>0.0</td>\n      <td>0.0</td>\n      <td>0.0</td>\n      <td>0.0</td>\n      <td>1.0</td>\n      <td>0.0</td>\n      <td>0.0</td>\n      <td>1.0</td>\n    </tr>\n    <tr>\n      <th>11096</th>\n      <td>-0.273252</td>\n      <td>0.095594</td>\n      <td>1.257751</td>\n      <td>1.014021</td>\n      <td>3.067403e-16</td>\n      <td>0.466346</td>\n      <td>-0.691554</td>\n      <td>1.0</td>\n      <td>0.0</td>\n      <td>0.0</td>\n      <td>0.0</td>\n      <td>0.0</td>\n      <td>1.0</td>\n      <td>0.0</td>\n      <td>0.0</td>\n      <td>0.0</td>\n      <td>0.0</td>\n      <td>1.0</td>\n      <td>0.0</td>\n    </tr>\n    <tr>\n      <th>10424</th>\n      <td>-0.745843</td>\n      <td>-0.614352</td>\n      <td>0.533562</td>\n      <td>0.064952</td>\n      <td>3.067403e-16</td>\n      <td>1.777452</td>\n      <td>-0.938167</td>\n      <td>0.0</td>\n      <td>0.0</td>\n      <td>0.0</td>\n      <td>1.0</td>\n      <td>1.0</td>\n      <td>0.0</td>\n      <td>0.0</td>\n      <td>0.0</td>\n      <td>0.0</td>\n      <td>0.0</td>\n      <td>1.0</td>\n      <td>0.0</td>\n    </tr>\n    <tr>\n      <th>26007</th>\n      <td>0.356869</td>\n      <td>-0.348082</td>\n      <td>-0.673420</td>\n      <td>0.539487</td>\n      <td>1.638161e+00</td>\n      <td>1.121899</td>\n      <td>0.048284</td>\n      <td>0.0</td>\n      <td>0.0</td>\n      <td>0.0</td>\n      <td>1.0</td>\n      <td>0.0</td>\n      <td>0.0</td>\n      <td>0.0</td>\n      <td>1.0</td>\n      <td>0.0</td>\n      <td>0.0</td>\n      <td>1.0</td>\n      <td>0.0</td>\n    </tr>\n  </tbody>\n</table>\n</div>"
     },
     "execution_count": 24,
     "metadata": {},
     "output_type": "execute_result"
    }
   ],
   "source": [
    "X_test.head()"
   ],
   "metadata": {
    "collapsed": false,
    "ExecuteTime": {
     "end_time": "2024-09-16T17:50:03.121778200Z",
     "start_time": "2024-09-16T17:50:03.089208500Z"
    }
   }
  },
  {
   "cell_type": "code",
   "execution_count": 25,
   "outputs": [
    {
     "data": {
      "text/plain": "14668    0.0\n24614    0.0\n11096    0.0\n10424    1.0\n26007    1.0\nName: Status, dtype: float64"
     },
     "execution_count": 25,
     "metadata": {},
     "output_type": "execute_result"
    }
   ],
   "source": [
    "y_test.head()"
   ],
   "metadata": {
    "collapsed": false,
    "ExecuteTime": {
     "end_time": "2024-09-16T17:50:13.217263100Z",
     "start_time": "2024-09-16T17:50:13.202858900Z"
    }
   }
  },
  {
   "cell_type": "code",
   "execution_count": 34,
   "outputs": [],
   "source": [
    "y_train_df = y_train.to_frame(name='y_train')\n",
    "y_test_df = y_test.to_frame(name='y_test')"
   ],
   "metadata": {
    "collapsed": false,
    "ExecuteTime": {
     "end_time": "2024-09-16T17:58:33.588980100Z",
     "start_time": "2024-09-16T17:58:33.575889300Z"
    }
   }
  },
  {
   "cell_type": "code",
   "execution_count": 35,
   "outputs": [],
   "source": [
    "X_train.to_parquet('tmp/X_train.parquet', index=False)\n",
    "X_test.to_parquet('tmp/X_test.parquet', index=False)\n",
    "y_train_df.to_parquet('tmp/y_train.parquet', index=False)\n",
    "y_test_df.to_parquet('tmp/y_test.parquet', index=False)"
   ],
   "metadata": {
    "collapsed": false,
    "ExecuteTime": {
     "end_time": "2024-09-16T17:58:49.034926700Z",
     "start_time": "2024-09-16T17:58:48.985326100Z"
    }
   }
  },
  {
   "cell_type": "code",
   "execution_count": null,
   "outputs": [],
   "source": [],
   "metadata": {
    "collapsed": false
   }
  }
 ],
 "metadata": {
  "kernelspec": {
   "display_name": "Python 3",
   "language": "python",
   "name": "python3"
  },
  "language_info": {
   "codemirror_mode": {
    "name": "ipython",
    "version": 2
   },
   "file_extension": ".py",
   "mimetype": "text/x-python",
   "name": "python",
   "nbconvert_exporter": "python",
   "pygments_lexer": "ipython2",
   "version": "2.7.6"
  }
 },
 "nbformat": 4,
 "nbformat_minor": 0
}
